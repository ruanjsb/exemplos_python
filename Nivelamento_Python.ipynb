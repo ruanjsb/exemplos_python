{
  "nbformat": 4,
  "nbformat_minor": 0,
  "metadata": {
    "colab": {
      "name": "Nivelamento_Python.ipynb",
      "provenance": [],
      "collapsed_sections": [],
      "include_colab_link": true
    },
    "kernelspec": {
      "name": "python3",
      "display_name": "Python 3"
    }
  },
  "cells": [
    {
      "cell_type": "markdown",
      "metadata": {
        "id": "view-in-github",
        "colab_type": "text"
      },
      "source": [
        "<a href=\"https://colab.research.google.com/github/ruanjsb/exemplos_python/blob/master/Nivelamento_Python.ipynb\" target=\"_parent\"><img src=\"https://colab.research.google.com/assets/colab-badge.svg\" alt=\"Open In Colab\"/></a>"
      ]
    },
    {
      "cell_type": "markdown",
      "metadata": {
        "id": "PsvrNJSSFdcn",
        "colab_type": "text"
      },
      "source": [
        "### Pós-graduação em Ciência de Dados - ITEAM ###\n",
        "#### Módulo de Nivelamento Computacional ####\n",
        "##### Aluno: Ruan Belém #####\n",
        "#### Lista de Exercício ####"
      ]
    },
    {
      "cell_type": "markdown",
      "metadata": {
        "id": "4lg4zO0wxh0e",
        "colab_type": "text"
      },
      "source": [
        "Exercício 1.\n",
        "Você trabalha para um fabricante e foi solicitado a calcular o lucro total obtido com\n",
        "as vendas de um produto. Você recebe um dicionário que contém o preço de custo\n",
        "por unidade (em dólares), preço de venda por unidade (em dólares) e o estoque\n",
        "inicial . Retorne o lucro total obtido, arredondado para o dólar mais\n",
        "próximo. Suponha que todo o estoque tenha sido vendido."
      ]
    },
    {
      "cell_type": "code",
      "metadata": {
        "id": "kVxyUh-sxQMr",
        "colab_type": "code",
        "outputId": "bd43c528-6655-4464-89ea-03c600928caa",
        "colab": {
          "base_uri": "https://localhost:8080/",
          "height": 34
        }
      },
      "source": [
        "produto = {'preco_custo': 20.15, 'preco_venda': 30.20, 'estoque': 10}\n",
        "lucro = (produto['preco_venda'] - produto['preco_custo']) * produto['estoque']\n",
        "print(\"O lucro total obtido é de US${:.2f}.\".format(lucro))\n"
      ],
      "execution_count": 0,
      "outputs": [
        {
          "output_type": "stream",
          "text": [
            "O lucro total obtido é de US$100.50.\n"
          ],
          "name": "stdout"
        }
      ]
    },
    {
      "cell_type": "markdown",
      "metadata": {
        "id": "FJfusXDE1J33",
        "colab_type": "text"
      },
      "source": [
        "Exercício 2.\n",
        "Crie uma função que pega uma lista de dicionários (compras) que calcula o preço\n",
        "total e o retorna como um número. Um dicionário de compras tem um produto, uma\n",
        "quantidade e um preço."
      ]
    },
    {
      "cell_type": "code",
      "metadata": {
        "id": "5p93YXR_y-Tn",
        "colab_type": "code",
        "outputId": "2c64b783-f044-4a4e-fb66-ba48217e1fa6",
        "colab": {
          "base_uri": "https://localhost:8080/",
          "height": 34
        }
      },
      "source": [
        "compras = [{'produto':'bola', 'quantidade': 10, 'preco': 10}, {'produto':'carrinho', 'quantidade': 5, 'preco': 10}, {'produto':'peão', 'quantidade': 3, 'preco': 10}]\n",
        "\n",
        "def calcula_total(lista_compras):\n",
        "  total = 0\n",
        "  for compra in compras:\n",
        "    total = total + (compra['preco'] * compra['quantidade'] )\n",
        "  return total\n",
        "\n",
        "total_compras = calcula_total(compras)\n",
        "print(total_compras)\n",
        "\n",
        "\n"
      ],
      "execution_count": 0,
      "outputs": [
        {
          "output_type": "stream",
          "text": [
            "180\n"
          ],
          "name": "stdout"
        }
      ]
    },
    {
      "cell_type": "markdown",
      "metadata": {
        "id": "xA07-9a-BkMc",
        "colab_type": "text"
      },
      "source": [
        "Exercício 3.\n",
        "Crie uma função que aceite dois números como argumentos ( num , length ) e\n",
        "retorne uma lista de múltiplos de num até length."
      ]
    },
    {
      "cell_type": "code",
      "metadata": {
        "id": "3YKAAyjX18vX",
        "colab_type": "code",
        "outputId": "85d00662-2c1e-4bf2-8d23-a10e662c7b1f",
        "colab": {
          "base_uri": "https://localhost:8080/",
          "height": 34
        }
      },
      "source": [
        "def lista_multiplos(num, lenght):\n",
        "  multiplos = [n for n in range(1, lenght+1) if n % num == 0]\n",
        "  return multiplos\n",
        "\n",
        "lista_multiplos(10, 50)"
      ],
      "execution_count": 0,
      "outputs": [
        {
          "output_type": "execute_result",
          "data": {
            "text/plain": [
              "[10, 20, 30, 40, 50]"
            ]
          },
          "metadata": {
            "tags": []
          },
          "execution_count": 42
        }
      ]
    },
    {
      "cell_type": "markdown",
      "metadata": {
        "id": "EJYfgdzqMO_G",
        "colab_type": "text"
      },
      "source": [
        "Exercício 4.\n",
        "Dadas duas linhas, determine se elas são paralelas ou não.\n",
        "As linhas são representadas por uma lista [a, b, c] , que corresponde à\n",
        "linha ax+by=c ."
      ]
    },
    {
      "cell_type": "code",
      "metadata": {
        "id": "GzzBNRpRE2o-",
        "colab_type": "code",
        "outputId": "785493ef-7c24-4964-e22e-98c81fd23322",
        "colab": {
          "base_uri": "https://localhost:8080/",
          "height": 34
        }
      },
      "source": [
        "line1 = [2,4,-2]\n",
        "line2 = [4,8,0]\n",
        "s1 = (-line1[0])/line1[1]\n",
        "s2 = (-line2[0])/line2[1]\n",
        "s1 == s2\n"
      ],
      "execution_count": 0,
      "outputs": [
        {
          "output_type": "execute_result",
          "data": {
            "text/plain": [
              "True"
            ]
          },
          "metadata": {
            "tags": []
          },
          "execution_count": 50
        }
      ]
    },
    {
      "cell_type": "markdown",
      "metadata": {
        "id": "Y_50VIefZ_H0",
        "colab_type": "text"
      },
      "source": [
        "Exercício 5.\n",
        "Suponha que você tenha uma lista de convidados e o país de origem,\n",
        "armazenados como pares de valores-chave em um dicionário."
      ]
    },
    {
      "cell_type": "code",
      "metadata": {
        "id": "qG8GU3P6UpA4",
        "colab_type": "code",
        "colab": {
          "base_uri": "https://localhost:8080/",
          "height": 34
        },
        "outputId": "afc65b54-e4d6-4055-a1c7-9d35f8028583"
      },
      "source": [
        "lista_convidados = {'Convidado1': 'Brasil', 'Convidado2':'Japão', 'Convidado3':'China' }\n",
        "print(lista_convidados)"
      ],
      "execution_count": 14,
      "outputs": [
        {
          "output_type": "stream",
          "text": [
            "{'Convidado1': 'Brasil', 'Convidado2': 'Japão', 'Convidado3': 'China'}\n"
          ],
          "name": "stdout"
        }
      ]
    },
    {
      "cell_type": "markdown",
      "metadata": {
        "id": "3_WNXo7paBVA",
        "colab_type": "text"
      },
      "source": [
        "Exercício 6.\n",
        "Crie uma função para encontrar apenas o valor raiz de x qualquer equação\n",
        "quadrática ax^2 + bx + c . A função terá três argumentos:\n",
        "* a como o coeficiente de x^2\n",
        "* b como o coeficiente de x\n",
        "* c como o termo constante\n"
      ]
    },
    {
      "cell_type": "code",
      "metadata": {
        "id": "78GLl3bVaEr8",
        "colab_type": "code",
        "outputId": "72315ca1-b037-4abb-d3dd-e47780042b25",
        "colab": {
          "base_uri": "https://localhost:8080/",
          "height": 34
        }
      },
      "source": [
        "import math\n",
        "\n",
        "def resolve_equacao_quadratica(a, b, c):\n",
        "  d = (b**2)-(4*a*c) \n",
        "  if d < 0:\n",
        "      result = []\n",
        "  elif d == 0:\n",
        "      x = (-b+math.sqrt(b**2-4*a*c))/2*a\n",
        "      return [x]\n",
        "  else:\n",
        "      x1 = (-b+math.sqrt((b**2)-(4*(a*c))))/(2*a)\n",
        "      x2 = (-b-math.sqrt((b**2)-(4*(a*c))))/(2*a)\n",
        "      result = [x1, x2]\n",
        "  return result\n",
        "\n",
        "solucoes = resolve_equacao_quadratica(-2, -2, 3)\n",
        "print(solucoes)"
      ],
      "execution_count": 0,
      "outputs": [
        {
          "output_type": "stream",
          "text": [
            "[-1.8228756555322954, 0.8228756555322954]\n"
          ],
          "name": "stdout"
        }
      ]
    },
    {
      "cell_type": "markdown",
      "metadata": {
        "id": "X6mZPHyA77Ve",
        "colab_type": "text"
      },
      "source": [
        "Exercício 7.Imagine um círculo e dois quadrados: um menor e um maior. Para o menor,\n",
        "o círculo é um circuncisão e, para o maior, um círculo.\n",
        "<figure>\n",
        "<center>\n",
        "<img src='https://drive.google.com/uc?id=1lXG_ybt1NcC6yk9P9PybV9uMB1x7_NdM' height=\"200\" width=\"200\" />\n",
        "</figure>\n",
        "Crie uma função, que use um número inteiro (raio do círculo) e retorne a\n",
        "diferença das áreas quadradas.\n",
        "\n"
      ]
    },
    {
      "cell_type": "code",
      "metadata": {
        "id": "n7iHyN3J-CKT",
        "colab_type": "code",
        "outputId": "d9fe706c-4690-4117-d708-61ab5cd89a86",
        "colab": {
          "base_uri": "https://localhost:8080/",
          "height": 34
        }
      },
      "source": [
        "def dif_areas_quadrados(raio):\n",
        "  lado_quad_inscrito = raio * math.sqrt(2)\n",
        "  area_quad_inscrito = lado_quad_inscrito ** 2\n",
        "  \n",
        "  diametro = 2 * raio \n",
        "  area_quad_circunscrito = diametro ** 2  \n",
        "  \n",
        "  return area_quad_circunscrito - area_quad_inscrito\n",
        "\n",
        "diferenca = dif_areas_quadrados(1)\n",
        "print(diferenca)"
      ],
      "execution_count": 0,
      "outputs": [
        {
          "output_type": "stream",
          "text": [
            "1.9999999999999996\n"
          ],
          "name": "stdout"
        }
      ]
    },
    {
      "cell_type": "markdown",
      "metadata": {
        "id": "IbRZeZlhENI_",
        "colab_type": "text"
      },
      "source": [
        "Exercício 8.\n",
        "Crie uma função que concatene n listas de entrada, onde n é variável."
      ]
    },
    {
      "cell_type": "code",
      "metadata": {
        "id": "1I31vjHgB1hy",
        "colab_type": "code",
        "outputId": "30b309d1-e6f1-4a2f-e2c3-027e42e16e2e",
        "colab": {
          "base_uri": "https://localhost:8080/",
          "height": 34
        }
      },
      "source": [
        "def concatena_listas(*listas):\n",
        "  result = []\n",
        "  for l in listas:\n",
        "    result += l\n",
        "  return result\n",
        "\n",
        "lista_concatenada = concatena_listas([1,2,3], ['a', 'b', 'c'], ['#', '$', '&'])\n",
        "print(lista_concatenada)"
      ],
      "execution_count": 0,
      "outputs": [
        {
          "output_type": "stream",
          "text": [
            "[1, 2, 3, 'a', 'b', 'c', '#', '$', '&']\n"
          ],
          "name": "stdout"
        }
      ]
    },
    {
      "cell_type": "markdown",
      "metadata": {
        "id": "ZyxVaVD1GMqu",
        "colab_type": "text"
      },
      "source": [
        "Exercício 9.\n",
        "Uma equação quadrática a x2 + b x + c = 0 tem 0, 1 ou 2 soluções distintas\n",
        "para x . Dado a , b e c , você deve retornar o número de soluções para a\n",
        "equação."
      ]
    },
    {
      "cell_type": "code",
      "metadata": {
        "id": "CSDK15UEFtfe",
        "colab_type": "code",
        "outputId": "b6c6bf02-2a1d-4214-b7ee-343cd0977f17",
        "colab": {
          "base_uri": "https://localhost:8080/",
          "height": 85
        }
      },
      "source": [
        "a = int(input('entre com valor de a: '))\n",
        "b = int(input('entre com valor de b: '))\n",
        "c = int(input('entre com valor de c: '))\n",
        "\n",
        "d = (b**2)-(4*a*c) \n",
        "if d < 0:\n",
        "  print('A equação não tem solução, ou seja, 0 soluções.')\n",
        "elif d == 0:\n",
        "  print('A equação tem 1 solução.')\n",
        "else:\n",
        "  print('A equação tem 2 soluções.')"
      ],
      "execution_count": 0,
      "outputs": [
        {
          "output_type": "stream",
          "text": [
            "entre com valor de a: -2\n",
            "entre com valor de b: -2\n",
            "entre com valor de c: 3\n",
            "A equação tem 2 soluções.\n"
          ],
          "name": "stdout"
        }
      ]
    },
    {
      "cell_type": "markdown",
      "metadata": {
        "id": "qcqepurQJscD",
        "colab_type": "text"
      },
      "source": [
        "Exercício 10.\n",
        "Crie uma função que retorne os índices de todas as ocorrências de um item na\n",
        "lista. Observações:\n",
        "* Se um elemento não existir em uma lista, retorne [] .\n",
        "* As listas são indexadas a zero.\n",
        "* Os valores na lista serão do tipo de valor (não precisa se preocupar\n",
        "com listas aninhadas)."
      ]
    },
    {
      "cell_type": "code",
      "metadata": {
        "id": "OAsrYQyKI_Zp",
        "colab_type": "code",
        "outputId": "8eebda59-2341-47a8-e93e-067192f06036",
        "colab": {
          "base_uri": "https://localhost:8080/",
          "height": 34
        }
      },
      "source": [
        "def indexa_ocorrencias(lista, item):\n",
        "  indices = []\n",
        "  for i, val in enumerate(lista):\n",
        "    if val == item:\n",
        "      indices.append(i)\n",
        "  return indices\n",
        "\n",
        "indices = indexa_ocorrencias([3,1,3,5,3,5,6,3], 3)\n",
        "print(indices)\n"
      ],
      "execution_count": 0,
      "outputs": [
        {
          "output_type": "stream",
          "text": [
            "[0, 2, 4, 7]\n"
          ],
          "name": "stdout"
        }
      ]
    },
    {
      "cell_type": "markdown",
      "metadata": {
        "id": "gahGbpcvNb3s",
        "colab_type": "text"
      },
      "source": [
        "Exercício 11.\n",
        "Crie uma função que inclua uma lista de intervalos e retorne quantos\n",
        "intervalos se sobrepõem a um determinado ponto.\n",
        "Um intervalo se sobrepõe a um ponto específico se o ponto existe dentro do\n",
        "intervalo ou no limite do intervalo . Por exemplo, o ponto se 3 sobrepõe ao\n",
        "intervalo [2, 4] (está dentro) e [2, 3] (está no limite).\n",
        "Observações:\n",
        "* Cada intervalo é representado como uma lista com um ponto inicial e um\n",
        "ponto final.\n",
        "* Intervalos contam como interseção, mesmo se eles se cruzam apenas em\n",
        "um ponto, ou seja, [2, 3] e [3, 4] ambos se cruzam no ponto 3 .\n",
        "* Se for útil, você pode desenhar esses intervalos em uma linha em um\n",
        "pedaço de papel."
      ]
    },
    {
      "cell_type": "code",
      "metadata": {
        "id": "W0uw2XGELrfz",
        "colab_type": "code",
        "outputId": "8cace3cd-7586-45e6-cf4c-d0ec87484f7a",
        "colab": {
          "base_uri": "https://localhost:8080/",
          "height": 34
        }
      },
      "source": [
        "import itertools\n",
        "\n",
        "def conta_intervalos_sobrepoe(intervalos):\n",
        "  ranges = [range(lim[0],lim[1]+1) for lim in  intervalos]\n",
        "  tem_intersecoes = []\n",
        "  for comb in itertools.combinations(ranges,2):\n",
        "    x = comb[0]\n",
        "    y = comb[1]\n",
        "    w = range(max(x[0], y[0]), min(x[-1], y[-1])+1)\n",
        "    if len(w) > 0:\n",
        "      if comb[0] not in tem_intersecoes:\n",
        "        tem_intersecoes.append(comb[0])\n",
        "      if comb[1] not in tem_intersecoes:\n",
        "        tem_intersecoes.append(comb[1])\n",
        "  return len(tem_intersecoes)\n",
        "\n",
        "conta_intervalos_sobrepoe([[2,3], [4,5], [5,10]])"
      ],
      "execution_count": 0,
      "outputs": [
        {
          "output_type": "execute_result",
          "data": {
            "text/plain": [
              "2"
            ]
          },
          "metadata": {
            "tags": []
          },
          "execution_count": 76
        }
      ]
    },
    {
      "cell_type": "markdown",
      "metadata": {
        "id": "UAc6D5l9k2X8",
        "colab_type": "text"
      },
      "source": [
        "Exercício 12.\n",
        "Para treinar para uma próxima maratona, Johnny faz uma corrida de longa\n",
        "distância a cada sábado. Ele quer rastrear com que frequência o número de\n",
        "milhas percorridas excede o sábado anterior . Isso é chamado de dia do\n",
        "progresso .\n",
        "Crie uma função que inclua uma lista de milhas percorridas todos os\n",
        "sábados e retorne o número total de dias de progresso de Johnny.\n",
        "\n",
        "Observação:\n",
        "* Correr o mesmo número de milhas da semana passada não conta como um dia\n",
        "de progresso."
      ]
    },
    {
      "cell_type": "code",
      "metadata": {
        "id": "jhtLnO3OeMpw",
        "colab_type": "code",
        "outputId": "924cbeda-454a-49cb-e691-6d5d449e748f",
        "colab": {
          "base_uri": "https://localhost:8080/",
          "height": 34
        }
      },
      "source": [
        "def dias_de_progresso(lista_milhas):\n",
        "  dias = 0\n",
        "  for i, item in enumerate(lista_milhas):\n",
        "    if i > 0:\n",
        "      if lista_milhas[i] > lista_milhas[i-1]:\n",
        "        dias += 1\n",
        "  return dias\n",
        "\n",
        "dias_de_progresso([10,11,10,11,13])"
      ],
      "execution_count": 0,
      "outputs": [
        {
          "output_type": "execute_result",
          "data": {
            "text/plain": [
              "3"
            ]
          },
          "metadata": {
            "tags": []
          },
          "execution_count": 83
        }
      ]
    },
    {
      "cell_type": "markdown",
      "metadata": {
        "id": "KPVnvp_y2R_p",
        "colab_type": "text"
      },
      "source": [
        "Exercício 13.\n",
        "Retornar o número total de listas dentro de uma determinada lista."
      ]
    },
    {
      "cell_type": "code",
      "metadata": {
        "id": "I1nlbWAZovs9",
        "colab_type": "code",
        "outputId": "5697bf87-e108-41a6-f914-4e84e15adecd",
        "colab": {
          "base_uri": "https://localhost:8080/",
          "height": 34
        }
      },
      "source": [
        "def conta_listas(lista):\n",
        "  return len([type(l) for l in lista if isinstance(l, list)])\n",
        "\n",
        "conta_listas([1, [], 2, []])"
      ],
      "execution_count": 0,
      "outputs": [
        {
          "output_type": "execute_result",
          "data": {
            "text/plain": [
              "2"
            ]
          },
          "metadata": {
            "tags": []
          },
          "execution_count": 93
        }
      ]
    },
    {
      "cell_type": "markdown",
      "metadata": {
        "id": "-Lo8Zc3K8Ch5",
        "colab_type": "text"
      },
      "source": [
        "Exercício 14.\n",
        "Em cada lista de entrada, todo número se repete pelo menos uma vez ,\n",
        "exceto dois .\n",
        "Escreva uma função que retorne os dois números exclusivos.\n",
        "\n",
        "Observação: Mantenha a mesma ordem na saída."
      ]
    },
    {
      "cell_type": "code",
      "metadata": {
        "id": "4DStChBG2vTP",
        "colab_type": "code",
        "outputId": "071d73e3-4f7e-4201-a280-4be705a400a8",
        "colab": {
          "base_uri": "https://localhost:8080/",
          "height": 34
        }
      },
      "source": [
        "def acha_exclusivos(lista):\n",
        "  exclusivos = []\n",
        "  for i in lista:\n",
        "    if lista.count(i) == 1:\n",
        "      exclusivos.append(i)\n",
        "  return exclusivos\n",
        "\n",
        "acha_exclusivos([8,8,3,4,4,2,2,1])\n"
      ],
      "execution_count": 0,
      "outputs": [
        {
          "output_type": "execute_result",
          "data": {
            "text/plain": [
              "[3, 1]"
            ]
          },
          "metadata": {
            "tags": []
          },
          "execution_count": 97
        }
      ]
    },
    {
      "cell_type": "markdown",
      "metadata": {
        "id": "CE5Xs-apW5zD",
        "colab_type": "text"
      },
      "source": [
        "Exercício 15.\n",
        "Este é um desafio de codificação reversa . Normalmente, você recebe\n",
        "instruções explícitas sobre como criar uma função. Aqui, você deve gerar\n",
        "sua própria função para satisfazer o relacionamento entre as entradas e\n",
        "saídas.\n",
        "\n",
        "Sua tarefa é criar uma função que, quando alimentada pelas entradas\n",
        "abaixo, produza as saídas de amostra mostradas."
      ]
    },
    {
      "cell_type": "markdown",
      "metadata": {
        "id": "UUg-hhDOXBqN",
        "colab_type": "text"
      },
      "source": [
        "Exercício 16.\n",
        "Crie uma função que determine se um número é Oddish ou Evenish . Um\n",
        "número é ímpar se a soma de todos os seus dígitos for ímpar e um númerofor par se a soma de todos os seus dígitos for par. Se um número\n",
        "for Oddish , retorne \"Oddish\" . Caso contrário, retorne \"Evenish\".\n",
        "\n",
        "Por exemplo, oddish_or_evenish(121) deve retornar \"Evenish\" , pois 1 + 2\n",
        "+ 1 = 4. oddish_or_evenish(41) deve retornar \"Oddish\" , pois 4 + 1 = 5."
      ]
    },
    {
      "cell_type": "code",
      "metadata": {
        "id": "jgExMdRU8x62",
        "colab_type": "code",
        "outputId": "e12acdd8-d67a-4d01-a63d-a627523aa9c4",
        "colab": {
          "base_uri": "https://localhost:8080/",
          "height": 34
        }
      },
      "source": [
        "def oddish_or_evenish(num):\n",
        "  soma = 0\n",
        "  for i in [int(d) for d in str(num)]:\n",
        "    soma += i\n",
        "  if soma % 2 == 0:\n",
        "    return \"Evenish\"\n",
        "  else:\n",
        "    return \"Oddish\"\n",
        "\n",
        "oddish_or_evenish(123)\n",
        "\n",
        "  "
      ],
      "execution_count": 0,
      "outputs": [
        {
          "output_type": "execute_result",
          "data": {
            "text/plain": [
              "'Evenish'"
            ]
          },
          "metadata": {
            "tags": []
          },
          "execution_count": 8
        }
      ]
    },
    {
      "cell_type": "markdown",
      "metadata": {
        "id": "V5EKJFHxZyap",
        "colab_type": "text"
      },
      "source": [
        "Exercício 17.\n",
        "Crie uma função que pega um número inteiro e gera um n x n quadrado que\n",
        "consiste exclusivamente no número inteiro n .\n",
        "Observação:\n",
        "* n >= 0 .\n",
        "*\n",
        " Se n == 0 , retorne uma lista vazia."
      ]
    },
    {
      "cell_type": "code",
      "metadata": {
        "id": "WPfM0d-uZQR7",
        "colab_type": "code",
        "outputId": "c51ccd54-0f94-4aed-8289-51d33e468b14",
        "colab": {
          "base_uri": "https://localhost:8080/",
          "height": 68
        }
      },
      "source": [
        "import numpy as np\n",
        "\n",
        "def quadrado(n):\n",
        "  q = np.full((n,n), n, dtype=int)\n",
        "  return q\n",
        "\n",
        "quad = quadrado(3)\n",
        "print(quad)"
      ],
      "execution_count": 0,
      "outputs": [
        {
          "output_type": "stream",
          "text": [
            "[[3 3 3]\n",
            " [3 3 3]\n",
            " [3 3 3]]\n"
          ],
          "name": "stdout"
        }
      ]
    },
    {
      "cell_type": "markdown",
      "metadata": {
        "id": "BwxjNiCsbYQ0",
        "colab_type": "text"
      },
      "source": [
        "Exercício 18.\n",
        "Seu trabalho é criar uma função com três números: a, b, c e retornar True se o\n",
        "último dígito de (o último dígito de a * o último dígito de b ) = o último dígito\n",
        "de c . Veja exemplos de explicações.\n",
        "Observações:\n",
        "* Se você ainda não entende:\n",
        " * O último dígito de a = aa, o último dígito de b = bb e o último\n",
        "dígito de c = cc.\n",
        " * Retorne True se o último dígito de aa * bb for igual a cc\n",
        "e False caso contrário.\n",
        "* Os números podem ser negativos."
      ]
    },
    {
      "cell_type": "code",
      "metadata": {
        "id": "BobziJTKam4x",
        "colab_type": "code",
        "outputId": "96a4fee3-7361-4c23-f3b6-92be65259b11",
        "colab": {
          "base_uri": "https://localhost:8080/",
          "height": 51
        }
      },
      "source": [
        "def verifica_ultimos(a, b, c):\n",
        "  la = int(str(a)[-1:]) if a >= 0 else -(int(str(a)[-1:]))\n",
        "  lb = int(str(b)[-1:]) if b >= 0 else -(int(str(b)[-1:]))\n",
        "  lc = int(str(c)[-1:]) if a >= 0 else -(int(str(c)[-1:]))\n",
        "  print(la,lb, lc)\n",
        "  if (int(la) * int(lb) == int(lc)):\n",
        "    return True\n",
        "  else:\n",
        "    return False\n",
        "\n",
        "verifica_ultimos(-11,13,-93)"
      ],
      "execution_count": 0,
      "outputs": [
        {
          "output_type": "stream",
          "text": [
            "-1 3 -3\n"
          ],
          "name": "stdout"
        },
        {
          "output_type": "execute_result",
          "data": {
            "text/plain": [
              "True"
            ]
          },
          "metadata": {
            "tags": []
          },
          "execution_count": 29
        }
      ]
    },
    {
      "cell_type": "markdown",
      "metadata": {
        "id": "quBGQ7etBV5k",
        "colab_type": "text"
      },
      "source": [
        "Exercício 19.\n",
        "Crie uma função que execute uma transformação par-ímpar em uma lista, n\n",
        "vezes . Cada transformação par-ímpar :\n",
        "1. Adiciona dois ( +2 ) a cada número inteiro ímpar.\n",
        "2. Subtrai dois ( -2 ) para cada número inteiro par."
      ]
    },
    {
      "cell_type": "code",
      "metadata": {
        "id": "uGIFYdSud6BH",
        "colab_type": "code",
        "outputId": "73536166-f8f9-4ee1-85a0-2a26c542ea5f",
        "colab": {
          "base_uri": "https://localhost:8080/",
          "height": 51
        }
      },
      "source": [
        "def par_impar(lista, n):\n",
        "  for i in range(n):\n",
        "    for j, e in enumerate(lista):\n",
        "      if e % 2 == 0:\n",
        "        lista[j] -= 2\n",
        "      else:\n",
        "        lista[j] += 2\n",
        "  return lista\n",
        "l = [1,2,3,4,5]\n",
        "print(l)        \n",
        "l = par_impar(l, 2)\n",
        "print(l)\n"
      ],
      "execution_count": 0,
      "outputs": [
        {
          "output_type": "stream",
          "text": [
            "[1, 2, 3, 4, 5]\n",
            "[5, -2, 7, 0, 9]\n"
          ],
          "name": "stdout"
        }
      ]
    },
    {
      "cell_type": "markdown",
      "metadata": {
        "id": "yaCD2g2QDM0r",
        "colab_type": "text"
      },
      "source": [
        "Exercício 20.\n",
        "Crie uma função que criptografa uma determinada entrada com estas\n",
        "etapas:\n",
        "Entrada: \"apple\"\n",
        "\n",
        "Etapa 1: inverta a entrada: \"elppa\"\n",
        "\n",
        "Etapa 2: Substitua todas as vogais usando a seguinte tabela:\n",
        "a => 0\n",
        "e => 1\n",
        "o => 2\n",
        "u => 3\n",
        "\n",
        "\\# \"1lpp0\"\n",
        "\n",
        "Etapa 3: adicione \"aca\" ao final da palavra: \"1lpp0aca\"\n",
        "\n",
        "Resultado: \"1lpp0aca\"\n",
        "\n",
        "Observação: Todas as entradas são cadeias, sem maiúsculas e toda saída deve\n",
        "ser cadeias."
      ]
    },
    {
      "cell_type": "code",
      "metadata": {
        "id": "Cm1uSmTQCwud",
        "colab_type": "code",
        "outputId": "b770a0a6-42a5-4172-f310-0143123e060a",
        "colab": {
          "base_uri": "https://localhost:8080/",
          "height": 34
        }
      },
      "source": [
        "def criptografa(texto):\n",
        "  texto = texto[::-1]\n",
        "  texto = texto.replace('a','0').replace('e','1').replace('o','2').replace('u','3')\n",
        "  texto += \"aca\"\n",
        "  \n",
        "  return texto\n",
        "\n",
        "criptografado = criptografa(\"apple\")\n",
        "print(criptografado)\n"
      ],
      "execution_count": 0,
      "outputs": [
        {
          "output_type": "stream",
          "text": [
            "1lpp0aca\n"
          ],
          "name": "stdout"
        }
      ]
    },
    {
      "cell_type": "markdown",
      "metadata": {
        "id": "hlMzD2czG0oZ",
        "colab_type": "text"
      },
      "source": [
        "Exercício 21.\n",
        "Um gráfico de pizza é uma representação gráfica circular de um conjunto de\n",
        "dados, em que cada frequência de categoria é representada por uma fatia\n",
        "(ou setor circular) com uma amplitude em graus dada pela porcentagem de\n",
        "frequência única sobre o total de frequências. Você pode obter os graus de\n",
        "setores seguindo estas etapas:\n",
        "* Calcular o total de frequências.\n",
        "* Calcule a porcentagem de cada frequência de categoria, dividindo-a\n",
        "pelo total de frequências.\n",
        "* Transforme cada porcentagem em graus, multiplicando-a por 360.\n",
        "Você recebe um dicionário data com chaves como categorias de dados\n",
        "(representadas por letras) e valores como frequências de dados. Implemente\n",
        "uma função que retorna um mapa para projetar um gráfico de pizza, como o\n",
        "mesmo dicionário com valores transformados em graus em vez de\n",
        "frequências. Arredonde os valores finais para o décimo mais próximo."
      ]
    },
    {
      "cell_type": "code",
      "metadata": {
        "id": "xp4xX-GhEaEl",
        "colab_type": "code",
        "outputId": "48457d51-9ec6-48ef-8fe4-914669a7e29d",
        "colab": {
          "base_uri": "https://localhost:8080/",
          "height": 34
        }
      },
      "source": [
        "data = {'a': 10, 'b': 10, 'c': 10, 'd':10, 'e': 10 }\n",
        "\n",
        "def pizza_chart(dados):\n",
        "  total = sum(dados.values())\n",
        "  for key, value in dados.items():\n",
        "    dados[key] = round((value/total) * 360)\n",
        "  return dados\n",
        "\n",
        "pizza_chart(data)"
      ],
      "execution_count": 0,
      "outputs": [
        {
          "output_type": "execute_result",
          "data": {
            "text/plain": [
              "{'a': 72, 'b': 72, 'c': 72, 'd': 72, 'e': 72}"
            ]
          },
          "metadata": {
            "tags": []
          },
          "execution_count": 52
        }
      ]
    },
    {
      "cell_type": "markdown",
      "metadata": {
        "id": "a7CaEQy2Y0uF",
        "colab_type": "text"
      },
      "source": [
        "Exercício 22.Crie uma função que pegue um número de cordas de guitarra e o número do\n",
        "traste e retorne a frequência correspondente da nota.\n",
        "\n",
        "* Verifique na guia Recursos as frequências corretas por sequência.\n",
        "* A fórmula para calcular a frequência é: String Frequency *\n",
        "2**(fret/12) .\n",
        "* Arredonde a frequência para o centro mais próximo.\n",
        "* Para esse desafio, usamos o \"Ajuste padrão\".\n",
        "\n",
        "Então, um traste = um semitom = meio passo. De D a D♯, por exemplo."
      ]
    },
    {
      "cell_type": "code",
      "metadata": {
        "id": "LIRg-8TIIKbh",
        "colab_type": "code",
        "outputId": "a2a51b62-4e65-4e6f-ec05-25c529342c61",
        "colab": {
          "base_uri": "https://localhost:8080/",
          "height": 34
        }
      },
      "source": [
        "def calcula_frequencia(corda, traste):\n",
        "  #frequencias_cordas = {'E': 329.63, 'A': 440, 'D': 587.33, 'G': 783.99, 'B': 987.77, 'e': 1318.5}\n",
        "  frequencias_cordas = {6: 329.63, 5: 440, 4: 587.33, 3: 783.99, 2: 987.77, 1: 1318.5}\n",
        "  frequencia = round(frequencias_cordas[corda] * 2**(traste/12))\n",
        "  return frequencia\n",
        "\n",
        "f = calcula_frequencia(5,3)\n",
        "print(f)\n"
      ],
      "execution_count": 0,
      "outputs": [
        {
          "output_type": "stream",
          "text": [
            "523\n"
          ],
          "name": "stdout"
        }
      ]
    },
    {
      "cell_type": "markdown",
      "metadata": {
        "id": "eWe2hOiwfgrz",
        "colab_type": "text"
      },
      "source": [
        "Exercício 23.\n",
        "Você recebe três entradas: uma sequência, uma letra e uma segunda letra.\n",
        "Escreva uma função que retorne True se todas as instâncias da primeira\n",
        "letra ocorrerem antes de todas as instâncias da segunda letra.\n",
        "\n",
        "Observações:\n",
        "* Todas as strings estarão em minúsculas.\n",
        "* Todas as cadeias conterão a primeira e a segunda letras pelo\n",
        "menos uma vez ."
      ]
    },
    {
      "cell_type": "code",
      "metadata": {
        "id": "4-tj07YackzA",
        "colab_type": "code",
        "outputId": "aba19ee6-5c1a-4418-a57f-9a7d3f32158e",
        "colab": {
          "base_uri": "https://localhost:8080/",
          "height": 51
        }
      },
      "source": [
        "def verifica_rel_ocorrencias(texto, l1, l2):\n",
        "  return texto.rindex(l1) < texto.index(l2)\n",
        "\n",
        "r1 = verifica_rel_ocorrencias(\"bababibi\",'b','i')\n",
        "print(r1)\n",
        "r2 = verifica_rel_ocorrencias(\"bababicicleta\",'b','i')\n",
        "print(r2)\n"
      ],
      "execution_count": 0,
      "outputs": [
        {
          "output_type": "stream",
          "text": [
            "False\n",
            "True\n"
          ],
          "name": "stdout"
        }
      ]
    },
    {
      "cell_type": "markdown",
      "metadata": {
        "id": "wIOePQ_hoKQe",
        "colab_type": "text"
      },
      "source": [
        "Exercício 24.\n",
        "Dada uma frase comum, retorne False se qualquer palavra individual na frase\n",
        "contiver letras duplicadas . Retornar True caso contrário.\n",
        "\n",
        "Observação: Correspondências de letras não diferenciam maiúsculas de\n",
        "minúsculas."
      ]
    },
    {
      "cell_type": "code",
      "metadata": {
        "id": "Zhfu4x3zhCi5",
        "colab_type": "code",
        "outputId": "404a023b-c103-4438-9485-68bb9b87342f",
        "colab": {
          "base_uri": "https://localhost:8080/",
          "height": 51
        }
      },
      "source": [
        "def verifica_letras_duplicadas(frase):\n",
        "  for p in frase.lower().split(\" \"):\n",
        "    if len(p) > len(set(p)):\n",
        "      return False\n",
        "  return True\n",
        "\n",
        "r = verifica_letras_duplicadas(\"Harry Potter: o bruxo.\")\n",
        "print(r)\n",
        "r = verifica_letras_duplicadas(\"O bruxo.\")\n",
        "print(r)"
      ],
      "execution_count": 0,
      "outputs": [
        {
          "output_type": "stream",
          "text": [
            "False\n",
            "True\n"
          ],
          "name": "stdout"
        }
      ]
    },
    {
      "cell_type": "markdown",
      "metadata": {
        "id": "soIjUtaS9oiJ",
        "colab_type": "text"
      },
      "source": [
        "Exercício 25.\n",
        "Escreva uma função que use um número inteiro positivo e calcule quantos\n",
        "pontos existem em uma forma pentagonal ao redor do ponto central\n",
        "na enésima iteração.\n",
        "\n",
        "Na imagem abaixo, você pode ver que a primeira iteração é apenas um\n",
        "ponto. No segundo, existem 6 pontos. No terceiro, existem 16 pontos e no\n",
        "quarto, 31."
      ]
    },
    {
      "cell_type": "code",
      "metadata": {
        "id": "05oWCVqvowwM",
        "colab_type": "code",
        "outputId": "2ac7af30-d086-4e3f-9a53-315496e7e5c7",
        "colab": {
          "base_uri": "https://localhost:8080/",
          "height": 187
        }
      },
      "source": [
        "#1, (anterior) + 5 + (0 espaços), (anterior) + 5 + (5 espaços), (anterior) + 5 + (10 espaços), ...\n",
        "def pontos_pentagono(iteracao):\n",
        "  pontos = 1\n",
        "  for i in range(1,iteracao+1):\n",
        "    pontos = pontos + (i*5) - 5\n",
        "  return pontos\n",
        "\n",
        "for i in range(10):\n",
        "    print(\"Pontos na {}.a iteração: {} \".format(i+1, pontos_pentagono(i+1)))\n"
      ],
      "execution_count": 0,
      "outputs": [
        {
          "output_type": "stream",
          "text": [
            "Pontos na 1.a iteração: 1 \n",
            "Pontos na 2.a iteração: 6 \n",
            "Pontos na 3.a iteração: 16 \n",
            "Pontos na 4.a iteração: 31 \n",
            "Pontos na 5.a iteração: 51 \n",
            "Pontos na 6.a iteração: 76 \n",
            "Pontos na 7.a iteração: 106 \n",
            "Pontos na 8.a iteração: 141 \n",
            "Pontos na 9.a iteração: 181 \n",
            "Pontos na 10.a iteração: 226 \n"
          ],
          "name": "stdout"
        }
      ]
    },
    {
      "cell_type": "markdown",
      "metadata": {
        "id": "SlIcHPYAYCW5",
        "colab_type": "text"
      },
      "source": [
        "Exercício 26.\n",
        "Crie uma função que retorne o voto majoritário em uma lista. Uma votação\n",
        "majoritária é um elemento que ocorre > N / 2 vezes em uma lista (onde N é o\n",
        "comprimento da lista).\n",
        "Observações:\n",
        "\n",
        "* A frequência do elemento majoritário deve ser estritamente\n",
        "maior que 1/2.\n",
        "* Se não houver elemento majoritário, retorne None .\n",
        "* Se a lista estiver vazia, retorne None ."
      ]
    },
    {
      "cell_type": "code",
      "metadata": {
        "id": "QCwDgC6TRW5i",
        "colab_type": "code",
        "outputId": "6b579d8d-350f-45bd-d036-d1bddb1211db",
        "colab": {
          "base_uri": "https://localhost:8080/",
          "height": 68
        }
      },
      "source": [
        "def encontra_majoritario(lista = []):\n",
        "  if len(lista) > 0:\n",
        "    meio = len(lista) / 2\n",
        "    for i in lista:\n",
        "      if lista.count(i) > meio:\n",
        "        return i\n",
        "    return None\n",
        "  else:\n",
        "    return None\n",
        "\n",
        "result = encontra_majoritario([])\n",
        "print(result)\n",
        "result = encontra_majoritario([1,1,2])\n",
        "print(result)\n",
        "result = encontra_majoritario([1,2])\n",
        "print(result)"
      ],
      "execution_count": 0,
      "outputs": [
        {
          "output_type": "stream",
          "text": [
            "None\n",
            "1\n",
            "None\n"
          ],
          "name": "stdout"
        }
      ]
    },
    {
      "cell_type": "markdown",
      "metadata": {
        "id": "CYIRIku8cYE0",
        "colab_type": "text"
      },
      "source": [
        "Exercício 27.\n",
        "Crie uma função que converte datas de um dos cinco formatos de\n",
        "sequência:\n",
        "\n",
        "1. \"9 de janeiro de 2019\" (MM D, AAAA)\n",
        "2. \"9 de janeiro de 2019\" (MM D, AAAA)\n",
        "3. \"09/09/2019\" (MM / DD / AAAA)\n",
        "4. \"09-01-2019\" (MM-DD-AAAA)\n",
        "5. \"01.09.2019\" (MM.DD.AAA)\n",
        "\n",
        "O valor de retorno será uma lista formatada como: [MM, DD,\n",
        "YYYY] onde MM , DD e YYYY são todos inteiros."
      ]
    },
    {
      "cell_type": "code",
      "metadata": {
        "id": "1WX77fsKaFCk",
        "colab_type": "code",
        "outputId": "30693bff-fc9e-4f82-caaf-de734fdcc18c",
        "colab": {
          "base_uri": "https://localhost:8080/",
          "height": 85
        }
      },
      "source": [
        "def converte_data(data):\n",
        "  data = data.lower()\n",
        "  meses = {'janeiro': 1, 'fevereiro': 2, 'março': 3, 'abril': 4, 'maio': 5, 'junho': 6, 'julho': 7, 'agosto': 8, 'setembro': 9, 'outubro': 10, 'novembro': 11, 'dezembro': 12}\n",
        "  sep = set(data) & {'/','-','.'}\n",
        "  if len(sep) > 0:\n",
        "    data_s = map(int,data.split(str(list(sep)[0])))\n",
        "  else:\n",
        "    data_s = data.replace(\" de \", \" \").split(\" \")\n",
        "    data_s[1]= meses[data_s[1]]\n",
        "    data_s = map(int, data_s)\n",
        "    data_s = list(data_s)\n",
        "    \n",
        "  return list(data_s)\n",
        "\n",
        "d1 = converte_data(\"9 de janeiro de 2019\")\n",
        "print(d1)\n",
        "d2 = converte_data(\"09/09/2019\")\n",
        "print(d2)\n",
        "d3 = converte_data(\"09-01-2019\")\n",
        "print(d3)\n",
        "d4 = converte_data(\"01.09.2019\")\n",
        "print(d4)\n"
      ],
      "execution_count": 0,
      "outputs": [
        {
          "output_type": "stream",
          "text": [
            "[9, 1, 2019]\n",
            "[9, 9, 2019]\n",
            "[9, 1, 2019]\n",
            "[1, 9, 2019]\n"
          ],
          "name": "stdout"
        }
      ]
    },
    {
      "cell_type": "markdown",
      "metadata": {
        "id": "GOWdSj4C6_vn",
        "colab_type": "text"
      },
      "source": [
        "Exercício 28.\n",
        "Você receberá uma string que consiste em uma lista de números inteiros e\n",
        "seus relacionamentos com os números inteiros vizinhos. Por exemplo:\n",
        "\"-15<-10<=0=0<5\"\n",
        "\n",
        "Teste para verificar se todos os relacionamentos entre os números inteiros\n",
        "na sequência são verdadeiros. Se estiverem, retorne True . Se não\n",
        "estiverem, retorne False.\n",
        "\n",
        "Observações:\n",
        "\n",
        "* Esta é uma modificação do desafio \"Sinais corretos\" de Helen Yu.\n",
        "* Como os exemplos acima mostram, pode haver números negativos na\n",
        "string.\n",
        "* Os números serão separados apenas por: =, <, >, >=, <=\n",
        "* Os testes não conterão espaços."
      ]
    },
    {
      "cell_type": "code",
      "metadata": {
        "id": "n-ZvkGxGesN-",
        "colab_type": "code",
        "outputId": "86d2e134-3bdf-47fd-89a5-4ab1111b988c",
        "colab": {
          "base_uri": "https://localhost:8080/",
          "height": 34
        }
      },
      "source": [
        "def avalia_expressao(expressao):\n",
        "  s = 'd1'\n",
        "  n1 = ''\n",
        "  n2 = ''\n",
        "  op =''\n",
        "  r = False\n",
        "  for idx,c in enumerate(expressao):\n",
        "    #print(\"s = {} , c = {} , op ={}, n1 = {}, n2 = {}\".format(s, c, op, n1, n2))\n",
        "    if s == 'd1':\n",
        "      if c == '-' or c.isdigit():\n",
        "        n1 += c\n",
        "      else:\n",
        "        op += c\n",
        "        s = 'op'\n",
        "      continue\n",
        "    if s == 'op':\n",
        "      if c in ['=', '<', '>']:\n",
        "        op += c\n",
        "      else:\n",
        "        n2 += c\n",
        "        s = 'd2'\n",
        "        if idx >= len(expressao)-1:\n",
        "          if op == '=':\n",
        "            op = '=='\n",
        "          exp = n1 + op + n2\n",
        "          r = eval(exp)\n",
        "          #print(\"exp = {}, r = {}\".format(exp, r))\n",
        "      continue\n",
        "    if s == 'd2':\n",
        "      if c == '-' or c.isdigit():\n",
        "        n2 += c\n",
        "      else:\n",
        "        if op == '=':\n",
        "          op = '=='\n",
        "        exp = n1 + op + n2\n",
        "        r = eval(exp)\n",
        "        #print(\"exp = {}, r = {}\".format(exp, r))\n",
        "        n1 = n2\n",
        "        n2 = ''\n",
        "        op =c\n",
        "        s = 'op'\n",
        "      continue\n",
        "  return r\n",
        "\n",
        "r = avalia_expressao(\"-15<-10<=0=0<5\")\n",
        "print(r)"
      ],
      "execution_count": 0,
      "outputs": [
        {
          "output_type": "stream",
          "text": [
            "True\n"
          ],
          "name": "stdout"
        }
      ]
    },
    {
      "cell_type": "markdown",
      "metadata": {
        "id": "rxwR_wAZu_gz",
        "colab_type": "text"
      },
      "source": [
        "Exercício 29.A função phi de Euler (da letra grega φ , também chamada função totiente\n",
        "de Euler ) conta os números inteiros positivos que são coprime de um\n",
        "determinado número n , de 1 a n - 1. Dois números são coprime quando seu\n",
        "maior divisor comum é igual a 1. Veja no exemplo abaixo.\n",
        "\n",
        "divisors of 6 -> [1, 2, 3, 6]\n",
        "\n",
        "divisors of 5 -> [1, 5] -> g.c.d. = 1\n",
        "divisors of 4 -> [1, 2, 4] -> g.c.d. = 2\n",
        "divisors of 3 -> [1, 3] -> g.c.d. = 3\n",
        "divisors of 2 -> [1, 2] -> g.c.d. = 2\n",
        "divisors of 1 -> [1] -> g.c.d. = 1\n",
        "\n",
        "\n",
        "1 and 5 are coprime of 6 ➞ phi(6) = 2\n",
        "Implemente uma função phi que retorne a contagem de números inteiros de\n",
        "coprime de um número inteiro positivo n .\n",
        "Observações:\n",
        "\n",
        "* 1 é trivialmente coprime de cada número.\n",
        "* Você também pode obter fatores primos de um número inteiro em vez\n",
        "de todos os seus divisores positivos; lembre-se de que 1 está\n",
        "presente em qualquer caso, apesar de não ser primo."
      ]
    },
    {
      "cell_type": "code",
      "metadata": {
        "id": "GAUv5zC5-16D",
        "colab_type": "code",
        "outputId": "7de44396-1cd1-46bf-d7e5-83f45732de66",
        "colab": {
          "base_uri": "https://localhost:8080/",
          "height": 34
        }
      },
      "source": [
        "def phi(n):\n",
        "  div_n = set([d for d in range(1, n + 1) if n % d == 0])\n",
        "  #print(div_n)\n",
        "  l_divs = []\n",
        "  for i in range(1,n):\n",
        "    d = set([d for d in range(1, i + 1) if i % d == 0])\n",
        "    l_divs.append(d)\n",
        "  cop = [divs for divs in l_divs if len(divs & div_n) == 1 ]\n",
        "  #print(cop)\n",
        "  return len(cop)\n",
        "\n",
        "r = phi(6)\n",
        "print(r)"
      ],
      "execution_count": 0,
      "outputs": [
        {
          "output_type": "stream",
          "text": [
            "2\n"
          ],
          "name": "stdout"
        }
      ]
    },
    {
      "cell_type": "markdown",
      "metadata": {
        "id": "j2MzFjwC2DdO",
        "colab_type": "text"
      },
      "source": [
        "Exercício 30.\n",
        "Escreva uma função que adicione dois números. O problema, no entanto, é que os\n",
        "números serão sequências de caracteres.\n",
        "Observações:\n",
        "\n",
        "* Se houver caracteres não numéricos, retorne \"-1\" .\n",
        "* Se uma opção estiver em branco, o código ainda deverá funcionar.\n",
        "* O Python suporta a adição de números inteiros sem limite, tente este\n",
        "desafio sem usar essa funcionalidade.\n",
        "* Sua função não precisa adicionar números negativos."
      ]
    },
    {
      "cell_type": "code",
      "metadata": {
        "id": "WhNkpjx7wOYT",
        "colab_type": "code",
        "outputId": "826e85db-2465-4c91-8c56-6425d2902072",
        "colab": {
          "base_uri": "https://localhost:8080/",
          "height": 34
        }
      },
      "source": [
        "def soma(n1 = '', n2 = ''):\n",
        "  if not n1.isnumeric() or not n2.isnumeric():\n",
        "    return -1\n",
        "  else:\n",
        "    return int(n1) + int(n2)\n",
        "\n",
        "soma(\"1\",\"3\")\n"
      ],
      "execution_count": 0,
      "outputs": [
        {
          "output_type": "execute_result",
          "data": {
            "text/plain": [
              "4"
            ]
          },
          "metadata": {
            "tags": []
          },
          "execution_count": 59
        }
      ]
    },
    {
      "cell_type": "markdown",
      "metadata": {
        "id": "5wiHYMKJ9P_P",
        "colab_type": "text"
      },
      "source": [
        "Exercício 31.\n",
        "Crie uma função que use caracteres de string como ASCII e retorne o valor\n",
        "hexadecimal de cada caractere como uma string.\n",
        "Observações:\n",
        "\n",
        "* Cada byte deve ser separado por um espaço.\n",
        "* Todos os caracteres hexadecimais alfa devem estar em minúsculas."
      ]
    },
    {
      "cell_type": "code",
      "metadata": {
        "id": "IM6JGDEj-BGQ",
        "colab_type": "code",
        "outputId": "898f6026-ba8f-4799-b207-363ec3a8f6f6",
        "colab": {
          "base_uri": "https://localhost:8080/",
          "height": 34
        }
      },
      "source": [
        "def converte_to_hex(s):\n",
        "  r = [hex(ord(c)) for c in s]\n",
        "  r= ' '.join(r)\n",
        "  return r\n",
        "\n",
        "r = converte_to_hex('ABC')\n",
        "print(r)"
      ],
      "execution_count": 0,
      "outputs": [
        {
          "output_type": "stream",
          "text": [
            "0x41 0x42 0x43\n"
          ],
          "name": "stdout"
        }
      ]
    },
    {
      "cell_type": "markdown",
      "metadata": {
        "id": "kbEgAqHDn4xS",
        "colab_type": "text"
      },
      "source": [
        "Exercício 32.\n",
        "Crie uma função que construa uma escada, dada a altura e o tipo de bloco de\n",
        "construção.\n",
        "Observações:\n",
        "\n",
        "* Se a altura for 0, retorne uma lista vazia [] .\n",
        "* Consulte Comentários ou recursos para obter ajuda."
      ]
    },
    {
      "cell_type": "code",
      "metadata": {
        "id": "XbOPGuLJ-iGQ",
        "colab_type": "code",
        "outputId": "0b546edf-1c93-477b-ce6d-2615fb637011",
        "colab": {
          "base_uri": "https://localhost:8080/",
          "height": 204
        }
      },
      "source": [
        "def escada(altura = 0, bloco = '#'):\n",
        "  esc = \"\"\n",
        "  if altura == 0:\n",
        "    return []\n",
        "  esc= bloco + ' ' * 8 + bloco + \"\\n\"\n",
        "  for i in range(altura):\n",
        "    esc += bloco * 10 + \"\\n\"\n",
        "    esc += (bloco + ' ' * 8 + bloco +\"\\n\") *2\n",
        "  return esc\n",
        "    \n",
        "\n",
        "r = escada(3)\n",
        "print(r)"
      ],
      "execution_count": 0,
      "outputs": [
        {
          "output_type": "stream",
          "text": [
            "#        #\n",
            "##########\n",
            "#        #\n",
            "#        #\n",
            "##########\n",
            "#        #\n",
            "#        #\n",
            "##########\n",
            "#        #\n",
            "#        #\n",
            "\n"
          ],
          "name": "stdout"
        }
      ]
    },
    {
      "cell_type": "markdown",
      "metadata": {
        "id": "KYh7RxChqwau",
        "colab_type": "text"
      },
      "source": [
        "Exercício 33.\n",
        "Crie uma função que considere n , a , b e retorne o número de valores aumentados\n",
        "para a enésima potência, no intervalo [a, b] , inclusive .\n",
        "Observações:\n",
        "\n",
        "* Lembre-se de que o intervalo é inclusivo.\n",
        "* a < b sempre será verdadeiro."
      ]
    },
    {
      "cell_type": "code",
      "metadata": {
        "id": "1zzfWISRmzQt",
        "colab_type": "code",
        "outputId": "7ebf4bc2-7fc8-4e7c-c1d0-2c78707192fd",
        "colab": {
          "base_uri": "https://localhost:8080/",
          "height": 34
        }
      },
      "source": [
        "def eleva(n, a, b):\n",
        "  r = [v**n for v in range(a, b+1)]\n",
        "  return r\n",
        "\n",
        "r  = eleva(2, 0, 10)\n",
        "print(r)"
      ],
      "execution_count": 0,
      "outputs": [
        {
          "output_type": "stream",
          "text": [
            "[0, 1, 4, 9, 16, 25, 36, 49, 64, 81, 100]\n"
          ],
          "name": "stdout"
        }
      ]
    },
    {
      "cell_type": "markdown",
      "metadata": {
        "id": "bf4siGLprqTg",
        "colab_type": "text"
      },
      "source": [
        "Exercício 34.\n",
        "Alguém tentou censurar minhas cordas, substituindo todas as vogais com\n",
        "um * , l\\*\\*k th*s . Felizmente, consegui encontrar as vogais que foram\n",
        "removidas.\n",
        "\n",
        "Dada uma sequência censurada e uma sequência de vogais censuradas,\n",
        "retorne a sequência original sem censura.\n",
        "\n",
        "Observação: O número de vogais corresponderá ao número de * caracteres na\n",
        "cadeia censurada."
      ]
    },
    {
      "cell_type": "code",
      "metadata": {
        "id": "kcyZ1LjFrhgf",
        "colab_type": "code",
        "outputId": "045068da-629e-4dc3-9653-cca3aff2f639",
        "colab": {
          "base_uri": "https://localhost:8080/",
          "height": 34
        }
      },
      "source": [
        "def restaura_vogais(frase, vogais):\n",
        "  frase = list(frase)\n",
        "  vogais = list(vogais[::-1])\n",
        "  for i, c in enumerate(frase):\n",
        "    if c == '*':\n",
        "      frase[i] = vogais.pop()\n",
        "  return \"\".join(frase)\n",
        "\n",
        "r = restaura_vogais(\"l**k th*s\", \"ooi\")\n",
        "print(r)\n",
        "\n",
        "\n"
      ],
      "execution_count": 0,
      "outputs": [
        {
          "output_type": "stream",
          "text": [
            "look this\n"
          ],
          "name": "stdout"
        }
      ]
    },
    {
      "cell_type": "markdown",
      "metadata": {
        "id": "BF34MzwOuofK",
        "colab_type": "text"
      },
      "source": [
        "Exercício 35.\n",
        "Em JavaScript, existem dois tipos de comentários:\n",
        "1. Comentários de linha única começam com //\n",
        "2. Comentários em várias linhas ou em linha começam /* e terminam\n",
        "com */\n",
        "\n",
        "A entrada será uma sequência de //, /* e  \\*/ Todo mundo /* deve ter\n",
        "um \\*/ que o segue imediatamente . Para adicionar, não pode\n",
        "haver comentários de linha única entre comentários de várias\n",
        "linhas entre /* e */ .\n",
        "\n",
        "Crie uma função que retorne True se os comentários forem formatados\n",
        "corretamente e False caso contrário."
      ]
    },
    {
      "cell_type": "code",
      "metadata": {
        "id": "5NWJwGrntdpW",
        "colab_type": "code",
        "outputId": "7487fb94-dbd2-45dc-f624-d0ecb3cd191d",
        "colab": {
          "base_uri": "https://localhost:8080/",
          "height": 51
        }
      },
      "source": [
        "def verifica_comentario(codigo):\n",
        "  s = 'nc'\n",
        "  lc = ''\n",
        "  result = False\n",
        "  for idx, c in enumerate(codigo):\n",
        "    if s == 'nc':\n",
        "      result = True\n",
        "      if c == '/':\n",
        "        s = \"sc\"\n",
        "        continue\n",
        "    if s == 'sc':\n",
        "      result = False\n",
        "      if c == '*':\n",
        "        s = 'sbc'\n",
        "        continue\n",
        "    if s == 'sbc':\n",
        "      if c == '/':\n",
        "        if lc == '/':\n",
        "          return False\n",
        "        else:\n",
        "          lc = '/'\n",
        "          continue\n",
        "      elif c == '*':\n",
        "        s = 'sec'\n",
        "        continue\n",
        "      else:\n",
        "        lc = ''\n",
        "        continue\n",
        "    if s == 'sec':\n",
        "      if c == '/':\n",
        "        result = True\n",
        "        s = 'nc'\n",
        "        continue\n",
        "  return result\n",
        "\n",
        "r = verifica_comentario(\"/**/\")\n",
        "print(r)\n",
        "\n",
        "r = verifica_comentario(\"/*//*/\")\n",
        "print(r)"
      ],
      "execution_count": 0,
      "outputs": [
        {
          "output_type": "stream",
          "text": [
            "True\n",
            "False\n"
          ],
          "name": "stdout"
        }
      ]
    },
    {
      "cell_type": "markdown",
      "metadata": {
        "id": "HxCUOHo26vpu",
        "colab_type": "text"
      },
      "source": [
        "Exercício 36.\n",
        "Crie uma função que utilize um número variável de grupos de itens e retorne o\n",
        "número de maneiras que os itens podem ser organizados, com um item de cada\n",
        "grupo. Ordem não importa."
      ]
    },
    {
      "cell_type": "code",
      "metadata": {
        "id": "Jjnq18l31GeG",
        "colab_type": "code",
        "outputId": "8a736c54-ef81-4c39-b872-2e78850691fd",
        "colab": {
          "base_uri": "https://localhost:8080/",
          "height": 51
        }
      },
      "source": [
        "import itertools as it\n",
        "def conta_combinacoes(*combinacoes):\n",
        "  cont = 0\n",
        "  for comb in it.combinations(combinacoes, 2):\n",
        "    #print(comb)\n",
        "    for c in it.product(comb[0], comb[1]):\n",
        "      #print(c)\n",
        "      cont += 1\n",
        "  return cont\n",
        "\n",
        "r = conta_combinacoes([1,2,3], [3, 4], [6,7])\n",
        "print(r)\n",
        "r = conta_combinacoes([1], [2], [3])\n",
        "print(r)"
      ],
      "execution_count": 0,
      "outputs": [
        {
          "output_type": "stream",
          "text": [
            "16\n",
            "3\n"
          ],
          "name": "stdout"
        }
      ]
    },
    {
      "cell_type": "markdown",
      "metadata": {
        "id": "lSqA4uJnlkdl",
        "colab_type": "text"
      },
      "source": [
        "Exercício 37.\n",
        "Escreva uma função que retorne o número total de números inteiros cobertos a\n",
        "partir de uma lista de intervalos ( inclusive ).\n",
        "Observações:\n",
        "\n",
        "* Os intervalos podem se sobrepor, ser subintervalos um do outro ou\n",
        "ser idênticos.\n",
        "* Para cada intervalo [l, u] , l e u serão números inteiros, e l <=\n",
        "u sempre será verdadeiro."
      ]
    },
    {
      "cell_type": "code",
      "metadata": {
        "id": "i3l86XoLEbz5",
        "colab_type": "code",
        "outputId": "8fb23489-943a-4d0e-9d88-a56ce71672fb",
        "colab": {
          "base_uri": "https://localhost:8080/",
          "height": 51
        }
      },
      "source": [
        "import functools as ft\n",
        "def verifica_cobertura(*intervalos):\n",
        "  print(len(range(ft.reduce(min, intervalos)[0], ft.reduce(max, intervalos)[1]+1)))\n",
        "\n",
        "r = verifica_cobertura([2,3], [3,8], [5, 9])\n",
        "print(r)"
      ],
      "execution_count": 0,
      "outputs": [
        {
          "output_type": "stream",
          "text": [
            "8\n",
            "None\n"
          ],
          "name": "stdout"
        }
      ]
    },
    {
      "cell_type": "markdown",
      "metadata": {
        "id": "N2P7Vl4MqrTI",
        "colab_type": "text"
      },
      "source": [
        "Exercício 38.\n",
        "Encontre o índice de uma sequência dentro de uma sequência codificada\n",
        "hexadecimal.\n",
        "\n",
        "Você receberá uma string que precisa ser encontrada em outra string que já\n",
        "foi traduzida em hexadecimal. Você precisará retornar o primeiro índice da\n",
        "agulha dentro da sequência codificada hexadecimal."
      ]
    },
    {
      "cell_type": "code",
      "metadata": {
        "id": "arTnLkudm8wp",
        "colab_type": "code",
        "outputId": "a0f754a4-0433-41bf-af6e-297292b5e0d0",
        "colab": {
          "base_uri": "https://localhost:8080/",
          "height": 34
        }
      },
      "source": [
        "def busca_hex(hex_str, consulta):\n",
        "  consulta_hex = [hex(ord(c)) for c in consulta]\n",
        "  consulta_hex = ''.join(consulta_hex)\n",
        "\n",
        "  return hex_str.find(consulta_hex)\n",
        "\n",
        "r = busca_hex(\"0x410x420x43\", \"B\")\n",
        "print(r)\n",
        "\n",
        "\n",
        "\n"
      ],
      "execution_count": 0,
      "outputs": [
        {
          "output_type": "stream",
          "text": [
            "4\n"
          ],
          "name": "stdout"
        }
      ]
    },
    {
      "cell_type": "markdown",
      "metadata": {
        "id": "UzLcJzlwuIgB",
        "colab_type": "text"
      },
      "source": [
        "Exercício 39.\n",
        "Um ponto de apoio de uma lista é um número inteiro, de modo que todos os\n",
        "elementos à esquerda dela e todos os elementos à direita dela somam o mesmo\n",
        "valor. Escreva uma função que encontre o ponto de apoio de uma lista.\n",
        "\n",
        "exemplo:\n",
        "\n",
        "find_fulcrum([3, 1, 5, 2, 4, 6, -1]) ➞ 2\n",
        "\n",
        "// Since [3, 1, 5] and [4, 6, -1] both sum to 9\n",
        "\n",
        "Observações:\n",
        "\n",
        "* Se o ponto de apoio não existir, retorne -1 (veja o exemplo # 4).\n",
        "* Exclua os elementos mais à esquerda e mais à direita ao calcular o\n",
        "ponto de apoio (não faz sentido somar valores zero).\n",
        "* Se uma lista tiver vários pontos de apoio, retorne o que ocorrer\n",
        "primeiro."
      ]
    },
    {
      "cell_type": "code",
      "metadata": {
        "id": "qCoPaNGpsqH6",
        "colab_type": "code",
        "outputId": "83a68b2f-b444-4e0d-c711-0a7eb167efbf",
        "colab": {
          "base_uri": "https://localhost:8080/",
          "height": 51
        }
      },
      "source": [
        "def encontra_ponto_apoio(lista):\n",
        "  for idx, i in enumerate(lista[1:-1]):\n",
        "    if sum(lista[:idx+1]) == sum(lista[idx+2:]):\n",
        "      return i\n",
        "  return -1\n",
        "\n",
        "r  = encontra_ponto_apoio([3, 1, 5, 2, 4, 6, -1])\n",
        "print(r)\n",
        "r  = encontra_ponto_apoio([3, 1, 5, 4, 4 ])\n",
        "print(r)\n"
      ],
      "execution_count": 0,
      "outputs": [
        {
          "output_type": "stream",
          "text": [
            "2\n",
            "-1\n"
          ],
          "name": "stdout"
        }
      ]
    },
    {
      "cell_type": "markdown",
      "metadata": {
        "id": "b8xXwT9rzPSj",
        "colab_type": "text"
      },
      "source": [
        "Exercício 40.\n",
        "Um robô recebeu uma lista de instruções de movimento. Cada instrução ou\n",
        "é left , right , up ou down , seguido por uma distância a mover. O robô começa às [0, 0] . Você deseja calcular onde o robô terminará e retornará\n",
        "sua posição final como uma lista.\n",
        "\n",
        "Para ilustrar, se o robô receber as seguintes instruções:\n",
        "[\"right 10\", \"up 50\", \"left 30\", \"down 10\"]\n",
        "Terminará 20 à esquerda e 40 a partir de onde começou, por isso\n",
        "voltamos [-20, 40] .\n",
        "\n",
        "Observações:\n",
        "\n",
        "* As únicas instruções dadas será left , right , up ou down .\n",
        "* A distância após a instrução é sempre um número inteiro positivo."
      ]
    },
    {
      "cell_type": "code",
      "metadata": {
        "id": "yp0sNwL1wFwA",
        "colab_type": "code",
        "outputId": "793cf8cb-f2e0-49ec-d863-8b239db8b65e",
        "colab": {
          "base_uri": "https://localhost:8080/",
          "height": 34
        }
      },
      "source": [
        "def move_robo(instrucoes):\n",
        "  pos = {'x':0,'y':0}\n",
        "  for i in instrucoes:\n",
        "    d, s = i.split(\" \")\n",
        "    if d == \"right\":\n",
        "      pos['x'] += int(s)\n",
        "    if d == \"left\":\n",
        "      pos['x'] -= int(s)\n",
        "    if d == \"up\":\n",
        "      pos['y'] += int(s)\n",
        "    if d == \"down\":\n",
        "      pos['y'] -= int(s)\n",
        "\n",
        "  return [pos['x'], pos['y']]\n",
        "\n",
        "r = move_robo( [\"right 10\", \"up 50\", \"left 30\", \"down 10\"])\n",
        "print(r)"
      ],
      "execution_count": 0,
      "outputs": [
        {
          "output_type": "stream",
          "text": [
            "[-20, 40]\n"
          ],
          "name": "stdout"
        }
      ]
    },
    {
      "cell_type": "markdown",
      "metadata": {
        "id": "ZvMdheHW-tIf",
        "colab_type": "text"
      },
      "source": [
        "Exercício 41.\n",
        "Este robô percorre uma grade 2D. Começa de (0, 0) frente para o\n",
        "norte. Depois de cada vez que se move, o robô gira 90 graus no sentido\n",
        "horário. Dada a quantidade que o robô moveu a cada vez, é necessário\n",
        "calcular a posição final do robô.\n",
        "\n",
        "Para ilustrar, se o robô receber os movimentos 20, 30, 10, 40 , ele se\n",
        "moverá:\n",
        "\n",
        "* 20 passos para o norte, agora às (0, 20)\n",
        "* 30 passos a leste, agora às (30, 20)\n",
        "* 10 passos ao sul. agora em (30, 10)\n",
        "* 40 passos a oeste, agora às (-10, 10)\n",
        "\n",
        "... e terminará em coordenadas (-10, 10) .\n",
        "\n",
        "Observação: Cada movimento é um número inteiro (número inteiro)."
      ]
    },
    {
      "cell_type": "code",
      "metadata": {
        "id": "B4p6jt6T13pq",
        "colab_type": "code",
        "outputId": "a14a1a5b-d468-49d3-a780-17984d7ac0bc",
        "colab": {
          "base_uri": "https://localhost:8080/",
          "height": 34
        }
      },
      "source": [
        "from itertools import cycle\n",
        "\n",
        "def move_robo2(instrucoes):\n",
        "  direcoes = ['norte','leste', 'sul', 'oeste']\n",
        "  direcoes = cycle(direcoes)\n",
        "  pos = {'x':0,'y':0}\n",
        "  for i in instrucoes:\n",
        "    direcao = next(direcoes) \n",
        "    if direcao == 'norte':\n",
        "       pos['y'] += i\n",
        "    if direcao == 'sul':\n",
        "       pos['y'] -= i\n",
        "    if direcao == 'leste':\n",
        "       pos['x'] += i\n",
        "    if direcao == 'oeste':\n",
        "       pos['x'] -= i\n",
        "    #print(pos)\n",
        "  return [pos['x'], pos['y']]\n",
        "\n",
        "r  = move_robo2([20, 30, 10, 40])\n",
        "print(r)\n",
        "  "
      ],
      "execution_count": 0,
      "outputs": [
        {
          "output_type": "stream",
          "text": [
            "[-10, 10]\n"
          ],
          "name": "stdout"
        }
      ]
    },
    {
      "cell_type": "markdown",
      "metadata": {
        "id": "Q5JhfNnlEBn9",
        "colab_type": "text"
      },
      "source": [
        "Exercício 42.\n",
        "Escreva uma função que retorne um mapeamento de caracteres de uma palavra.\n",
        "Observações:\n",
        "\n",
        "* Inicie seu contador em 0 e aumente em 1 cada vez que encontrar um\n",
        "novo personagem.\n",
        "* Caracteres idênticos devem compartilhar o mesmo número."
      ]
    },
    {
      "cell_type": "code",
      "metadata": {
        "id": "GYqjKZr0CuTZ",
        "colab_type": "code",
        "outputId": "09e3efeb-0343-4ed2-fb49-0f55895b127c",
        "colab": {
          "base_uri": "https://localhost:8080/",
          "height": 34
        }
      },
      "source": [
        "def mapeamento_char(palavra):\n",
        "  mapa = {}\n",
        "  indice = 0\n",
        "  for c in palavra:\n",
        "    if not c in mapa.keys():\n",
        "      mapa[c] = indice\n",
        "      indice += 1\n",
        "  return mapa\n",
        "\n",
        "\n",
        "r = mapeamento_char(\"palavra\")\n",
        "print(r)\n",
        "\n"
      ],
      "execution_count": 0,
      "outputs": [
        {
          "output_type": "stream",
          "text": [
            "{'p': 0, 'a': 1, 'l': 2, 'v': 3, 'r': 4}\n"
          ],
          "name": "stdout"
        }
      ]
    },
    {
      "cell_type": "markdown",
      "metadata": {
        "id": "PYqofQe5IIkC",
        "colab_type": "text"
      },
      "source": [
        "Exercício 43.\n",
        "Crie uma função que aceite números como argumentos, adicione-os e retorne o\n",
        "produto dos dígitos até que a resposta tenha apenas 1 dígito.\n",
        "\n",
        "Observação: A entrada da função é pelo menos um número."
      ]
    },
    {
      "cell_type": "code",
      "metadata": {
        "id": "PcZHuq-8FdIW",
        "colab_type": "code",
        "outputId": "10f6ba3c-b8d8-4477-faef-ccfba2ebd89c",
        "colab": {
          "base_uri": "https://localhost:8080/",
          "height": 34
        }
      },
      "source": [
        "def reduz_mult(digitos):\n",
        "  produto = 1\n",
        "  while(len(str(digitos)) > 1):\n",
        "    for d in str(digitos):\n",
        "      produto *= int(d)\n",
        "    digitos = produto\n",
        "    produto = 1\n",
        "  \n",
        "  return digitos\n",
        "\n",
        "reduz_mult(1234)\n"
      ],
      "execution_count": 0,
      "outputs": [
        {
          "output_type": "execute_result",
          "data": {
            "text/plain": [
              "8"
            ]
          },
          "metadata": {
            "tags": []
          },
          "execution_count": 76
        }
      ]
    },
    {
      "cell_type": "markdown",
      "metadata": {
        "id": "em7fqo2lLVz5",
        "colab_type": "text"
      },
      "source": [
        "Exercício 44.\n",
        "Escreva uma função que mova todos os zeros para o final de uma lista. Faça\n",
        "isso sem retornar uma cópia da lista de entrada.\n",
        "\n",
        "Observações:\n",
        "\n",
        "* Você deve alterar a lista original.\n",
        "* Mantenha a ordem relativa dos elementos diferentes de zero o\n",
        "mesmo."
      ]
    },
    {
      "cell_type": "code",
      "metadata": {
        "id": "ynGDPjrWJHsC",
        "colab_type": "code",
        "outputId": "aedb816d-2791-4566-d344-b230537b0e07",
        "colab": {
          "base_uri": "https://localhost:8080/",
          "height": 51
        }
      },
      "source": [
        "def move_zeros(lista):\n",
        "  for idx, i in enumerate(lista):\n",
        "    if i == 0:\n",
        "      lista.pop(idx)\n",
        "      lista.append(0)\n",
        "\n",
        "l = [1,0,2,0,3,0,4,0,5]\n",
        "print(l)\n",
        "move_zeros(l)\n",
        "print(l)\n",
        "\n"
      ],
      "execution_count": 0,
      "outputs": [
        {
          "output_type": "stream",
          "text": [
            "[1, 0, 2, 0, 3, 0, 4, 0, 5]\n",
            "[1, 2, 3, 4, 5, 0, 0, 0, 0]\n"
          ],
          "name": "stdout"
        }
      ]
    },
    {
      "cell_type": "markdown",
      "metadata": {
        "id": "RLxYDGEpxDex",
        "colab_type": "text"
      },
      "source": [
        "Exercício 45.\n",
        "Crie uma função que determine se cada assento pode \"ver\" o palco da\n",
        "frente. Um número pode \"ver\" o estágio inicial se for estritamente\n",
        "maior que o número anterior.\n",
        "\n",
        "Todos podem ver o estágio inicial no exemplo abaixo:\n",
        "\n",
        "FRONT STAGE\n",
        "\n",
        "[[1, 2, 3, 2, 1, 1],\n",
        "\n",
        "[2, 4, 4, 3, 2, 2],\n",
        "\n",
        "[5, 5, 5, 5, 4, 4],\n",
        "\n",
        "[6, 6, 7, 6, 5, 5]]\n",
        "\n",
        "Starting from the left, the 6 > 5 > 2 > 1, so all numbers can\n",
        "see.\n",
        "\n",
        "6 > 5 > 4 > 2 - so all numbers can see, etc.\n",
        "\n",
        "Nem todo mundo pode ver o palco da frente no exemplo abaixo:\n",
        "\n",
        "FRONT STAGE\n",
        "\n",
        "[[1, 2, 3, 2, 1, 1],\n",
        "\n",
        "[2, 4, 4, 3, 2, 2],\n",
        "\n",
        "[5, 5, 5, 10, 4, 4],\n",
        "\n",
        "[6, 6, 7, 6, 5, 5]]\n",
        "\n",
        "The 10 is directly in front of the 6 and blocking its view.\n",
        "A função deve retornar True se todos os números puderem ver o estágio\n",
        "inicial e False se um único número não puder.\n",
        "\n",
        "Observação: Os números devem ser estritamente maiores que o número à sua\n",
        "frente."
      ]
    },
    {
      "cell_type": "code",
      "metadata": {
        "id": "IxLgf3jsNDud",
        "colab_type": "code",
        "outputId": "771141cb-6c67-435c-ac5a-013877fed720",
        "colab": {
          "base_uri": "https://localhost:8080/",
          "height": 51
        }
      },
      "source": [
        "import numpy as np\n",
        "\n",
        "def verifica_assentos(assentos):\n",
        "  assentos = np.array(assentos)\n",
        "  num_colunas = assentos.shape[1]\n",
        "  for c in range(num_colunas):\n",
        "    fileira = assentos[:,c]\n",
        "    if not np.array_equal(np.unique(fileira), fileira):\n",
        "      return False\n",
        "    if not np.array_equal(np.sort(fileira), fileira):\n",
        "      return False\n",
        "  \n",
        "  return True\n",
        "\n",
        "\n",
        "r = verifica_assentos(\n",
        "    [[1, 2, 3, 2, 1, 1],\n",
        "    [2, 4, 4, 3, 2, 2],\n",
        "    [5, 5, 5, 5, 4, 4],\n",
        "    [6, 6, 7, 6, 5, 5]])\n",
        "\n",
        "print(r)\n",
        "\n",
        "r = verifica_assentos(\n",
        "    [[1, 2, 3, 2, 1, 1],\n",
        "    [2, 4, 4, 3, 2, 2],\n",
        "    [5, 5, 5, 10, 4, 4],\n",
        "    [6, 6, 7, 6, 5, 5]])\n",
        "\n",
        "print(r)\n"
      ],
      "execution_count": 0,
      "outputs": [
        {
          "output_type": "stream",
          "text": [
            "True\n",
            "False\n"
          ],
          "name": "stdout"
        }
      ]
    },
    {
      "cell_type": "markdown",
      "metadata": {
        "id": "VDxqwYHW6tJw",
        "colab_type": "text"
      },
      "source": [
        "Exercício 46.\n",
        "A persistência aditiva de um número inteiro,, n é o número de vezes que\n",
        "você deve substituir n pela soma de seus dígitos até que n se torne um\n",
        "número inteiro de um dígito.\n",
        "\n",
        "A persistência multiplicativa de um número inteiro,, n é o número de vezes\n",
        "que você deve substituir n pelo produto de seus dígitos até que n se torne\n",
        "um número inteiro de um dígito.\n",
        "\n",
        "Crie duas funções que usam um número inteiro como argumento e:\n",
        "1. Retorne sua persistência aditiva.\n",
        "2. Retorne sua persistência multiplicativa.\n",
        "\n",
        "Exemplos: persistência aditiva\n",
        "\n",
        "additive_persistence(1679583) ➞ 3\n",
        "\n",
        "1 + 6 + 7 + 9 + 5 + 8 + 3 = 39\n",
        "\n",
        "3 + 9 = 12\n",
        "\n",
        "1 + 2 = 3\n",
        "\n",
        "It takes 3 iterations to reach a single-digit number.\n",
        "additive_persistence(123456) ➞ 2\n",
        "\n",
        "1 + 2 + 3 + 4 + 5 + 6 = 21\n",
        "\n",
        "2 + 1 = 3\n",
        "\n",
        "additive_persistence(6) ➞ 0\n",
        "\n",
        "Because 6 is already a single-digit integer.\n",
        "\n",
        "Exemplos: Persistência Multiplicativa\n",
        "\n",
        "multiplicative_persistence(77) ➞ 4\n",
        "\n",
        "7 x 7 = 49\n",
        "\n",
        "4 x 9 = 36\n",
        "\n",
        "3 x 6 = 18\n",
        "\n",
        "1 x 8 = 8\n",
        "\n",
        "It takes 4 iterations to reach a single-digit number.\n",
        "\n",
        "multiplicative_persistence(123456) ➞ 2\n",
        "\n",
        "1 x 2 x 3 x 4 x 5 x 6 = 720\n",
        "\n",
        "7 x 2 x 0 = 0\n",
        "\n",
        "multiplicative_persistence(4) ➞ 0\n",
        "\n",
        "Because 4 is already a single-digit integer."
      ]
    },
    {
      "cell_type": "code",
      "metadata": {
        "id": "xzNnLQp201Et",
        "colab_type": "code",
        "outputId": "c0b01ac4-b0ff-4310-915f-672192cbea02",
        "colab": {
          "base_uri": "https://localhost:8080/",
          "height": 51
        }
      },
      "source": [
        "def persistencia_aditiva(numero):\n",
        "  p = 0\n",
        "  soma = 0\n",
        "  while(len(str(numero)) > 1):\n",
        "    for d in str(numero):\n",
        "      soma += int(d)\n",
        "    numero = soma\n",
        "    soma = 0\n",
        "    p+=1\n",
        "  \n",
        "  return p\n",
        "\n",
        "def persistencia_multiplicativa(numero):\n",
        "  p = 0\n",
        "  produto = 1\n",
        "  while(len(str(numero)) > 1):\n",
        "    for d in str(numero):\n",
        "      produto *= int(d)\n",
        "    numero = produto\n",
        "    produto = 1\n",
        "    p+=1\n",
        "  \n",
        "  return p\n",
        "\n",
        "r = persistencia_multiplicativa(77)\n",
        "print(r)\n",
        "\n",
        "r  = persistencia_aditiva(1679583)\n",
        "print(r)"
      ],
      "execution_count": 0,
      "outputs": [
        {
          "output_type": "stream",
          "text": [
            "4\n",
            "3\n"
          ],
          "name": "stdout"
        }
      ]
    },
    {
      "cell_type": "markdown",
      "metadata": {
        "id": "-0xBdgIaeNue",
        "colab_type": "text"
      },
      "source": [
        "Exercício 47.\n",
        "Crie uma função que pegue uma lista de números ou seqüências de\n",
        "caracteres e retorne uma lista com os itens da lista original armazenados em\n",
        "sublistas. Itens do mesmo valor devem estar na mesma sublist.\n",
        "\n",
        "Observação: As sublistas devem ser retornadas na ordem da primeira aparição de\n",
        "cada elemento na lista fornecida."
      ]
    },
    {
      "cell_type": "code",
      "metadata": {
        "id": "nhbCDxCjc_j-",
        "colab_type": "code",
        "outputId": "bfa56258-b7c0-4915-c1a3-0c529ae59a24",
        "colab": {
          "base_uri": "https://localhost:8080/",
          "height": 51
        }
      },
      "source": [
        "def gera_sublistas(original):\n",
        "  sublistas = {}\n",
        "  for i in original:\n",
        "    if str(i) not in sublistas.keys():\n",
        "      sublistas[str(i)] = [i]\n",
        "    else:\n",
        "      sublistas[str(i)].append(i)\n",
        "  return list(sublistas.values())\n",
        "\n",
        "r = gera_sublistas([1, 3, 2, 5, 4, 1, 4, 2, 3, 4, 5, 1, 2, 3])\n",
        "print(r)\n",
        "\n",
        "r = gera_sublistas(\"batatinha quando nasce\")\n",
        "print(r)\n",
        "      "
      ],
      "execution_count": 0,
      "outputs": [
        {
          "output_type": "stream",
          "text": [
            "[[1, 1, 1], [3, 3, 3], [2, 2, 2], [5, 5], [4, 4, 4]]\n",
            "[['b'], ['a', 'a', 'a', 'a', 'a'], ['t', 't'], ['i'], ['n', 'n', 'n'], ['h'], [' ', ' '], ['q'], ['u'], ['d'], ['o'], ['s'], ['c'], ['e']]\n"
          ],
          "name": "stdout"
        }
      ]
    },
    {
      "cell_type": "markdown",
      "metadata": {
        "id": "C12kYhG2DGWi",
        "colab_type": "text"
      },
      "source": [
        "Exercício 48.Este desafio é uma reviravolta em inglês no jogo de palavras\n",
        "japonês Shiritori . A premissa básica é seguir duas regras:\n",
        "\n",
        "1. O primeiro caractere da próxima palavra deve corresponder\n",
        "ao último caractere da palavra anterior .\n",
        "2. A palavra já não deve ter sido dita.\n",
        "\n",
        "Abaixo está um exemplo de um jogo de Shiritori :\n",
        "\n",
        "[\"word\", \"dowry\", \"yodel\", \"leader\", \"righteous\", \"serpent\"]\n",
        "\n",
        "valid!\n",
        "\n",
        "[\"motive\", \"beach\"]\n",
        "\n",
        "invalid! - beach should start with \"e\"\n",
        "\n",
        "[\"hive\", \"eh\", \"hive\"]\n",
        "\n",
        "invalid! - \"hive\" has already been said\n",
        "\n",
        "Escreva uma classe Shiritori que tenha duas variáveis de instância :\n",
        "\n",
        "* words : uma lista de palavras já ditas.\n",
        "* game_over : um booleano que é verdadeiro se o jogo terminar.\n",
        "\n",
        "e dois métodos de instância :\n",
        "\n",
        "* play : um método que usa uma palavra como argumento e verifica se\n",
        "é válido (a palavra deve seguir as regras 1 e 2 acima).\n",
        " * Se for válido, adiciona a palavra à lista de palavras e retorna\n",
        "a lista de palavras .\n",
        " * Se for inválido (qualquer regra for violada), ele retornará \"game\n",
        "over\" e definirá o valor booleano game_over como true .\n",
        "* restart : um método que define a lista de palavras como vazia [] e\n",
        "define o valor booleano game_over como false . Deve retornar \"jogo\n",
        "reiniciado\".\n",
        "\n",
        "Observações:\n",
        "\n",
        "* Nota: O método de reprodução não deve adicionar uma palavra\n",
        "inválida à lista de palavras .\n",
        "* Você não precisa se preocupar com letras maiúsculas ou espaços em\n",
        "branco para as entradas do método play .\n",
        "* O método play terá apenas argumentos únicos como entradas.\n",
        "* Leia mais sobre Shiritori na guia Recursos ."
      ]
    },
    {
      "cell_type": "code",
      "metadata": {
        "id": "dv0UpAJXD1Jc",
        "colab_type": "code",
        "colab": {
          "base_uri": "https://localhost:8080/",
          "height": 153
        },
        "outputId": "776c3fd4-cd3f-4f4b-8ca5-05fcd19df41c"
      },
      "source": [
        "class Shiritori():\n",
        "  def __init__(self):\n",
        "    self.words = []\n",
        "    self.game_over = False\n",
        "  def play(self, palavra):\n",
        "    if self.game_over == True:\n",
        "      return \"game over\"\n",
        "    if len(self.words) == 0:\n",
        "      self.words.append(palavra)\n",
        "      return self.words\n",
        "    elif (palavra in self.words) or (palavra[0] != self.words[-1][-1]):\n",
        "      self.game_over = True\n",
        "      return \"game over\"\n",
        "    else:\n",
        "      self.words.append(palavra)\n",
        "      return self.words\n",
        "  def restart(self):\n",
        "    self.words = []\n",
        "    self.game_over = False\n",
        "    return \"jogo reiniciado\"\n",
        "\n",
        "s = Shiritori()\n",
        "\n",
        "print(s.play(\"bola\"))\n",
        "print(s.play(\"aro\"))\n",
        "print(s.play(\"orar\"))\n",
        "print(s.play(\"viver\"))\n",
        "print(s.restart())\n",
        "print(s.play(\"lago\"))\n",
        "print(s.play(\"orla\"))\n",
        "print(s.play(\"carro\"))\n"
      ],
      "execution_count": 15,
      "outputs": [
        {
          "output_type": "stream",
          "text": [
            "['bola']\n",
            "['bola', 'aro']\n",
            "['bola', 'aro', 'orar']\n",
            "game over\n",
            "jogo reiniciado\n",
            "['lago']\n",
            "['lago', 'orla']\n",
            "game over\n"
          ],
          "name": "stdout"
        }
      ]
    },
    {
      "cell_type": "markdown",
      "metadata": {
        "id": "lx-j7Utv7Ssd",
        "colab_type": "text"
      },
      "source": [
        "Exercício 49.\n",
        "\n",
        "Uma prisão pode ser representada como uma lista de células. Cada célula\n",
        "contém exatamente um prisioneiro. A 1 representa uma célula\n",
        "desbloqueada e a 0 representa uma célula bloqueada.\n",
        "\n",
        "[1, 1, 0, 0, 0, 1, 0]\n",
        "\n",
        "Começando na cela mais à esquerda, você tem a tarefa de ver quantos\n",
        "prisioneiros você pode libertar, com uma pegadinha. Cada vez que você\n",
        "liberta um prisioneiro, as celas trancadas são desbloqueadas e as celas\n",
        "desbloqueadas ficam trancadas novamente.\n",
        "\n",
        "Então, se usarmos o exemplo acima:\n",
        "\n",
        "[1, 1, 0, 0, 0, 1, 0]\n",
        "\n",
        "You free the prisoner in the 1st cell.\n",
        "\n",
        "[0, 0, 1, 1, 1, 0, 1]\n",
        "\n",
        "You free the prisoner in the 3rd cell (2nd one locked).\n",
        "\n",
        "[1, 1, 0, 0, 0, 1, 0]\n",
        "\n",
        "You free the prisoner in the 6th cell (3rd, 4th and 5th\n",
        "locked).\n",
        "\n",
        "[0, 0, 1, 1, 1, 0, 1]\n",
        "\n",
        "You free the prisoner in the 7th cell - and you are done!\n",
        "Aqui, libertamos os 4 prisioneiros no total.\n",
        "Crie uma função que, dado esse arranjo único na prisão, retorne o número\n",
        "de presos libertados.\n",
        "\n",
        "Observações:\n",
        "\n",
        "* Você deve libertar um prisioneiro para que as fechaduras sejam\n",
        "trocadas. Portanto, no segundo exemplo, onde a entrada é [1, 1,\n",
        "1] , depois que você libera o primeiro prisioneiro, os bloqueios\n",
        "mudam para [0, 0, 0] . Como todas as células estão bloqueadas,\n",
        "você não pode liberar mais prisioneiros.\n",
        "* Você sempre começa com o elemento mais à esquerda na lista (a\n",
        "primeira cela da prisão). Se todas as celas da prisão à direita forem\n",
        "zeros, você não poderá libertar mais prisioneiros."
      ]
    },
    {
      "cell_type": "code",
      "metadata": {
        "id": "_c4wZcky7mpv",
        "colab_type": "code",
        "colab": {
          "base_uri": "https://localhost:8080/",
          "height": 34
        },
        "outputId": "605bf4bc-2be1-4136-9abb-b88e77ab67c3"
      },
      "source": [
        "def libertar(celas):\n",
        "  cela_atual = 0\n",
        "  livres = 0\n",
        "  while(cela_atual < len(celas)):\n",
        "    cela_atual = cela_atual + celas[cela_atual:].index(1)\n",
        "    if cela_atual != -1:\n",
        "      livres +=1\n",
        "      celas = [(0 if c == 1 else 1) for c in celas]\n",
        "      cela_atual +=1\n",
        "    else:\n",
        "      break\n",
        "  return livres\n",
        "\n",
        "r = libertar([1, 1, 0, 0, 0, 1, 0])\n",
        "print(r)"
      ],
      "execution_count": 13,
      "outputs": [
        {
          "output_type": "stream",
          "text": [
            "4\n"
          ],
          "name": "stdout"
        }
      ]
    },
    {
      "cell_type": "markdown",
      "metadata": {
        "id": "rnk7BRm_hErV",
        "colab_type": "text"
      },
      "source": [
        "Exercício 50.\n",
        "\n",
        "Escreva uma função que agrupe uma string no cluster de\n",
        "parênteses . Cada cluster deve ser equilibrado .\n",
        "\n",
        "Exemplos\n",
        "\n",
        "split(\"()()()\") ➞ [\"()\", \"()\", \"()\"]\n",
        "\n",
        "split(\"((()))\") ➞ [\"((()))\"]\n",
        "\n",
        "split(\"((()))(())()()(()())\") ➞ [\"((()))\", \"(())\", \"()\", \"()\",\n",
        "\"(()())\"]\n",
        "\n",
        "split(\"((())())(()(()()))\") ➞ [\"((())())\", \"(()(()()))\"]\n",
        "\n",
        "Observações:\n",
        "\n",
        "* Todas as sequências de entrada conterão apenas parênteses.\n",
        "* Equilibrado : todas as parênteses de abertura ( devem existir com as\n",
        "parênteses de fechamento correspondentes ) no mesmo cluster."
      ]
    },
    {
      "cell_type": "code",
      "metadata": {
        "id": "Bn-fOeUBfgTh",
        "colab_type": "code",
        "outputId": "56acff34-1582-4c42-8423-7b515177733b",
        "colab": {
          "base_uri": "https://localhost:8080/",
          "height": 51
        }
      },
      "source": [
        "def split_parenteses(sequencia):\n",
        "  abertos = []\n",
        "  clusters = []\n",
        "  ultimo = 0\n",
        "  for idx, i in enumerate(sequencia):\n",
        "    if i == '(':\n",
        "      abertos.append(i)\n",
        "    else:\n",
        "      abertos.pop()\n",
        "      if len(abertos) == 0:\n",
        "        clusters.append(sequencia[ultimo:idx+1])\n",
        "        ultimo = idx+1\n",
        "  \n",
        "  return clusters\n",
        "\n",
        "r = split_parenteses(\"()()()\")\n",
        "print(r)\n",
        "r = split_parenteses(\"((()))\")\n",
        "print(r)\n",
        "\n"
      ],
      "execution_count": 0,
      "outputs": [
        {
          "output_type": "stream",
          "text": [
            "['()', '()', '()']\n",
            "['((()))']\n"
          ],
          "name": "stdout"
        }
      ]
    },
    {
      "cell_type": "code",
      "metadata": {
        "id": "7jm8yEStl2ZP",
        "colab_type": "code",
        "colab": {}
      },
      "source": [
        ""
      ],
      "execution_count": 0,
      "outputs": []
    }
  ]
}